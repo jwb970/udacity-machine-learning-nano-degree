{
 "cells": [
  {
   "cell_type": "markdown",
   "metadata": {},
   "source": [
    "# A Model-Free Reinforcement Learning Trading Agent"
   ]
  },
  {
   "cell_type": "markdown",
   "metadata": {},
   "source": [
    "## Introduction\n",
    "\n",
    "The intent of this project is to demonstrate an already studied application of Q-Learning (the application as a trading agent) but add an important feature, that is the use of fundamental corporate data. \n",
    "\n",
    "The most intuitive input into a learning algorithm that intends to make stock buy and sell recommendations are price and volume related data (i.e. data that is directly derived from the assets stock price and trading volume). A whole discipline named technical analysis is devoted to deriving yet another metric based on price and volume information that is hoped to give valuable insight and trading signals. The efficacy of this approach is challanged and much discussed in academic literature yet there is a large community of people basing stock recommendations on technical analysis.\n",
    "In this project we will use technical indicators as "
   ]
  },
  {
   "cell_type": "markdown",
   "metadata": {},
   "source": [
    "### Simplifications and Assumptions\n",
    "\n",
    "This project does not make any claims of producing a real world trading agent, recognising that there are many considerations and real world complications to take into account which are out of the scope of this project.\n",
    "\n",
    "\n",
    "* __No trading costs__: trading costs are an important aspect to consider in real life investing as such cost can make up a significant part of the maintenance cost of a portfolio for high turnover portfolios or illiquid assets. In this project we simplify and ignore trading costs.\n",
    "\n",
    "* __Perfectly divisible shares__: this project uses a mean variance optimisation to find optimal holding weights which are computed in continuous space. In the real world a fraction might not easily be tradeable. This restriction is relaxed.\n",
    "\n",
    "* __No control perspective__: the agent acting in this space takes the perspective of a minor market participant with no pricing influence or market movement capabilities. This assumptions is most closely related to the real world where a financial market is made up of a large number of individual participant, each individually only comprising marginal important to the overall market. This has implications for the Q-learner in as much as there are no actual state transitions modeled (as the agent can't influence the state of the environment).\n",
    "\n",
    "* __No shorting__: the portfolio will never over invest itself or use shorting strategies. On the other hand the portfolio might be fully invested in cash if the agent decides that no stocks at all should be held. This is a convenient simplification so as to not force the learner to buy at least one asset but is is to be noted that this is a departure from real world requirements of fully invested portfolios (an active manager is not paid to hold cash)."
   ]
  },
  {
   "cell_type": "markdown",
   "metadata": {},
   "source": [
    "## Imports\n",
    "\n",
    "This project utilises the pandas and numpy modules for data manipulation as well as the portfolioopt module for mean variance portfolio optimisation.\n",
    "\n",
    "In addition to these third party modules the below artefacts are utilised which were created as part of this project:\n",
    "\n",
    "* __FlatFileDataService__ and __QuandlYahooDataService__: both provide a __get_data__ method which retrieves a panel whiere each dataframe represents a different underlying data item (e.g. Price or Net Income) and the dataframe itself is made up of a time series (y) for a list of assets (x) with values for given item. For this report the flat file data service can be used as all input data has been provided.\n",
    "* __FinancialDataService__: sets on top of the above file or quandl-yahoo data service and computes derived items (i.e. data items that can be derived of other items which need to be pulled from file or web) and performs data enrichment operations (fill forwarding etc).\n",
    "* __TradingAgent__: encapsulates the underlying learning system and steps through time to construct mean variance portfolio holding weights based on a list of BUY and SELL recommendations the learning algorithm provided.\n",
    "\n"
   ]
  },
  {
   "cell_type": "code",
   "execution_count": 6,
   "metadata": {
    "collapsed": false
   },
   "outputs": [],
   "source": [
    "import numpy as np\n",
    "import pandas as pd\n",
    "from data import QuandlYahooDataService\n",
    "from data import FlatFileDataService\n",
    "from data import FinancialDataService\n",
    "import portfolioopt as pfopt\n",
    "import datetime as datetime\n",
    "\n",
    "import TradingAgent as TradingAgent\n",
    "\n",
    "%matplotlib inline"
   ]
  },
  {
   "cell_type": "code",
   "execution_count": 7,
   "metadata": {
    "collapsed": false
   },
   "outputs": [],
   "source": [
    "path = '../data/'\n",
    "fds = FinancialDataService(FlatFileDataService(path).get_data)"
   ]
  },
  {
   "cell_type": "markdown",
   "metadata": {},
   "source": [
    "## Input Data\n",
    "\n",
    "In addition to the traditional price derived metrics we are going to pull various fundamental data items which will be used to gain insight into an asset's profitability, financial health, etc.\n",
    "\n",
    "As a reference univere of assets we will use the DOW Jones Industrial Average (DJIA) constituents. There are primarily two reasons for this choice:\n",
    "1. the DJIA is made up of 30 assets which is a small enough number to not overly complicate this project and introduce excess computational complexity (e.g. by using the S&P500) yet is made up of enough assets to achieve portfolio diversification effects.\n",
    "2. The DJIA is a well understood price-weighted index and performance data is readily available for comparison purposes.\n",
    "\n",
    "The raw data pulled here will later be discretized and cast into a state-space for q-learning."
   ]
  },
  {
   "cell_type": "code",
   "execution_count": 15,
   "metadata": {
    "collapsed": true
   },
   "outputs": [],
   "source": [
    "items = ['REVENUE', 'NET_INCOME', 'AVERAGE_ASSETS', 'AVERAGE_EQUITY', 'INTEREST_EXPENSE', 'EBIT', 'EBT', \\\n",
    "         'DIVIDEND_YIELD', 'NET_PROFIT_MARGIN', 'LEVERAGE', 'INTEREST_BURDEN', 'INTEREST_COVERAGE', 'PRICE']\n",
    "\n",
    "tickers = ['AAPL', 'AXP', 'BA', 'CAT', 'CSCO', 'CVX', 'KO', 'DD', 'XOM', \\\n",
    "           'GE', 'GS', 'HD', 'IBM', 'INTC', 'JNJ', 'JPM', 'MCD', 'MMM', \\\n",
    "           'MRK', 'MSFT', 'NKE', 'PFE', 'PG', 'TRV', 'UNH', 'UTX', 'V', \\\n",
    "           'VZ', 'WMT', 'DIS']\n",
    "\n",
    "data = fds.get_data(items=items, tickers=tickers)"
   ]
  },
  {
   "cell_type": "markdown",
   "metadata": {},
   "source": [
    "### Exploring the Data\n",
    "\n",
    "Below code shows the head of the __LEVERAGE__ data item for the first 5 assets.\n",
    "\n",
    "The example shows that data has been fill forwarded. Fundamental data originates from the company's financial statements and are slow moving (a listed company is required to publish audited financial statements once a year)."
   ]
  },
  {
   "cell_type": "code",
   "execution_count": 14,
   "metadata": {
    "collapsed": false
   },
   "outputs": [
    {
     "data": {
      "text/html": [
       "<div>\n",
       "<table border=\"1\" class=\"dataframe\">\n",
       "  <thead>\n",
       "    <tr style=\"text-align: right;\">\n",
       "      <th></th>\n",
       "      <th>AAPL</th>\n",
       "      <th>AXP</th>\n",
       "      <th>BA</th>\n",
       "      <th>CAT</th>\n",
       "      <th>CSCO</th>\n",
       "    </tr>\n",
       "    <tr>\n",
       "      <th>Date</th>\n",
       "      <th></th>\n",
       "      <th></th>\n",
       "      <th></th>\n",
       "      <th></th>\n",
       "      <th></th>\n",
       "    </tr>\n",
       "  </thead>\n",
       "  <tbody>\n",
       "    <tr>\n",
       "      <th>2008-08-13</th>\n",
       "      <td>1.703583</td>\n",
       "      <td>12.325793</td>\n",
       "      <td>7.034865</td>\n",
       "      <td>6.345891</td>\n",
       "      <td>1.686684</td>\n",
       "    </tr>\n",
       "    <tr>\n",
       "      <th>2008-08-14</th>\n",
       "      <td>1.703583</td>\n",
       "      <td>12.325793</td>\n",
       "      <td>7.034865</td>\n",
       "      <td>6.345891</td>\n",
       "      <td>1.686684</td>\n",
       "    </tr>\n",
       "    <tr>\n",
       "      <th>2008-08-15</th>\n",
       "      <td>1.703583</td>\n",
       "      <td>12.325793</td>\n",
       "      <td>7.034865</td>\n",
       "      <td>6.345891</td>\n",
       "      <td>1.686684</td>\n",
       "    </tr>\n",
       "    <tr>\n",
       "      <th>2008-08-18</th>\n",
       "      <td>1.703583</td>\n",
       "      <td>12.325793</td>\n",
       "      <td>7.034865</td>\n",
       "      <td>6.345891</td>\n",
       "      <td>1.686684</td>\n",
       "    </tr>\n",
       "    <tr>\n",
       "      <th>2008-08-19</th>\n",
       "      <td>1.703583</td>\n",
       "      <td>12.325793</td>\n",
       "      <td>7.034865</td>\n",
       "      <td>6.345891</td>\n",
       "      <td>1.686684</td>\n",
       "    </tr>\n",
       "  </tbody>\n",
       "</table>\n",
       "</div>"
      ],
      "text/plain": [
       "                AAPL        AXP        BA       CAT      CSCO\n",
       "Date                                                         \n",
       "2008-08-13  1.703583  12.325793  7.034865  6.345891  1.686684\n",
       "2008-08-14  1.703583  12.325793  7.034865  6.345891  1.686684\n",
       "2008-08-15  1.703583  12.325793  7.034865  6.345891  1.686684\n",
       "2008-08-18  1.703583  12.325793  7.034865  6.345891  1.686684\n",
       "2008-08-19  1.703583  12.325793  7.034865  6.345891  1.686684"
      ]
     },
     "execution_count": 14,
     "metadata": {},
     "output_type": "execute_result"
    }
   ],
   "source": [
    "data.get(\"LEVERAGE\").head()[tickers[0:5]]"
   ]
  },
  {
   "cell_type": "markdown",
   "metadata": {},
   "source": [
    "## Trading Agent\n",
    "\n",
    "The trading agent class encapsulates the underlying learning system. It sets on top of the data space obtained earlier and has the following responsibilities:\n",
    "\n",
    "1. train the learner without actually acting and investint.\n",
    "2. use the recommendations of the learner to form a holding portfolio which's weights are recorded in time to later produce performance figures.\n",
    "\n",
    "For each of the two items above the agent needs to be able to do the below as it steps through time:\n",
    "\n",
    "* take the raw input data at time *t* and compute the variables that form the state space\n",
    "    * standardise variables (zscore)\n",
    "    * discretise variables (bucketing)\n",
    "* for each asset at time *t* obtain the recommended action from the Q-learner (either Buy or Sell)\n",
    "* obtain holding weights for assets at time *t* by executing a mean variance optimisation\n",
    "    * only consider those assets recommended as Buy\n",
    "    * compute asset returns for given assets up to time *t* (using the __PRICE__ data item)\n",
    "    * compute covariance matrix for asset returns\n",
    "    * use covariance matrix to compute minimum variance portfolio\n",
    "    * rebalance portfolio at time *t* with given optimal weights (not in learning mode)\n",
    "* compute reward and update the Q-learner \n",
    "    * portfolios are rebalanced at a given frequency (see below). The reward is based on the sharpe ratio of the bought or sold asset over the chosen frequency. E.g. "
   ]
  },
  {
   "cell_type": "code",
   "execution_count": 9,
   "metadata": {
    "collapsed": false
   },
   "outputs": [
    {
     "ename": "TypeError",
     "evalue": "'module' object is not callable",
     "output_type": "error",
     "traceback": [
      "\u001b[0;31m---------------------------------------------------------------------------\u001b[0m",
      "\u001b[0;31mTypeError\u001b[0m                                 Traceback (most recent call last)",
      "\u001b[0;32m<ipython-input-9-44a3dad188b1>\u001b[0m in \u001b[0;36m<module>\u001b[0;34m()\u001b[0m\n\u001b[0;32m----> 1\u001b[0;31m \u001b[0magent\u001b[0m \u001b[0;34m=\u001b[0m \u001b[0mTradingAgent\u001b[0m\u001b[0;34m(\u001b[0m\u001b[0mdata\u001b[0m\u001b[0;34m)\u001b[0m\u001b[0;34m\u001b[0m\u001b[0m\n\u001b[0m",
      "\u001b[0;31mTypeError\u001b[0m: 'module' object is not callable"
     ]
    }
   ],
   "source": [
    "agent = TradingAgent(data)"
   ]
  },
  {
   "cell_type": "markdown",
   "metadata": {},
   "source": [
    "### Training the Agent\n",
    "\n",
    "To prevent starting off a portfolio with completely uninformed trades and bets the system is pre-trained by stepping through a predefined number of periods and simulate a portfolio without actually recording the performance (i.e. holdings are computed and simualted as but the results of those holdings won't enter the final performance comparison).\n",
    "\n",
    "In addition we specify a holding period which indicates in which intervals assets are re-assessed and and the portfolio is rebalanced. In this example we choose one week as a portfolio rabalance frequency."
   ]
  },
  {
   "cell_type": "code",
   "execution_count": 4,
   "metadata": {
    "collapsed": false
   },
   "outputs": [
    {
     "ename": "NameError",
     "evalue": "name 'agent' is not defined",
     "output_type": "error",
     "traceback": [
      "\u001b[0;31m---------------------------------------------------------------------------\u001b[0m",
      "\u001b[0;31mNameError\u001b[0m                                 Traceback (most recent call last)",
      "\u001b[0;32m<ipython-input-4-8fdcfbea9c6d>\u001b[0m in \u001b[0;36m<module>\u001b[0;34m()\u001b[0m\n\u001b[1;32m      2\u001b[0m \u001b[0mrebalance_frequency\u001b[0m \u001b[0;34m=\u001b[0m \u001b[0;36m5\u001b[0m\u001b[0;34m\u001b[0m\u001b[0m\n\u001b[1;32m      3\u001b[0m \u001b[0;34m\u001b[0m\u001b[0m\n\u001b[0;32m----> 4\u001b[0;31m \u001b[0magent\u001b[0m\u001b[0;34m.\u001b[0m\u001b[0mlearn\u001b[0m\u001b[0;34m(\u001b[0m\u001b[0mlearning_periods\u001b[0m\u001b[0;34m,\u001b[0m \u001b[0mrebalance_frequency\u001b[0m\u001b[0;34m)\u001b[0m\u001b[0;34m\u001b[0m\u001b[0m\n\u001b[0m",
      "\u001b[0;31mNameError\u001b[0m: name 'agent' is not defined"
     ]
    }
   ],
   "source": [
    "learning_periods = 255\n",
    "rebalance_frequency = 5\n",
    "\n",
    "agent.learn(learning_periods, rebalance_frequency)"
   ]
  },
  {
   "cell_type": "code",
   "execution_count": 35,
   "metadata": {
    "collapsed": false
   },
   "outputs": [],
   "source": [
    "agent.trade(5)"
   ]
  },
  {
   "cell_type": "code",
   "execution_count": 55,
   "metadata": {
    "collapsed": false
   },
   "outputs": [
    {
     "data": {
      "text/plain": [
       "<matplotlib.axes._subplots.AxesSubplot at 0x107836c50>"
      ]
     },
     "execution_count": 55,
     "metadata": {},
     "output_type": "execute_result"
    },
    {
     "data": {
      "image/png": "[encoded data removed]",
      "text/plain": [
       "<matplotlib.figure.Figure at 0x107845250>"
      ]
     },
     "metadata": {},
     "output_type": "display_data"
    }
   ],
   "source": [
    "prices = data.get(\"PRICE\").copy()\n",
    "prices[\"CASH\"] = 1.0\n",
    "portfolio = agent.get_portfolio()\n",
    "portfolio_weights = portfolio.get_portfolio_weights()\n",
    "portfolio_returns = portfolio.calculate_portfolio_returns(prices)\n",
    "cum_portfolio_returns = (portfolio_returns + 1).cumprod()\n",
    "\n",
    "djia = pd.read_csv(\"{}/DJIA_PRICE.csv\".format(path), index_col=0, parse_dates=True)\\\n",
    "        .ix[prices.index].fillna(method='ffill')\n",
    "cum_djia_returns = (djia / djia.shift(1))[1:].cumprod()\n",
    "\n",
    "cum_returns = pd.DataFrame(columns=[\"PORTFOLIO\", \"DJIA\"], index=prices.index[1:])\n",
    "cum_returns[\"PORTFOLIO\"] = cum_portfolio_returns\n",
    "cum_returns[\"DJIA\"] = cum_djia_returns\n",
    "\n",
    "cum_returns.plot()"
   ]
  },
  {
   "cell_type": "code",
   "execution_count": 38,
   "metadata": {
    "collapsed": false
   },
   "outputs": [
    {
     "name": "stdout",
     "output_type": "stream",
     "text": [
      "0.458780487805\n"
     ]
    }
   ],
   "source": [
    "weights = agent.get_portfolio().get_portfolio_weights().copy()\n",
    "\n",
    "assets_held = weights.apply(lambda s: s.apply(lambda v: 1 if v > 0 else 0)).sum(axis=1)\n",
    "print((assets_held / len(tickers)).mean())\n"
   ]
  },
  {
   "cell_type": "code",
   "execution_count": 45,
   "metadata": {
    "collapsed": true
   },
   "outputs": [],
   "source": []
  },
  {
   "cell_type": "code",
   "execution_count": 46,
   "metadata": {
    "collapsed": false
   },
   "outputs": [
    {
     "data": {
      "text/html": [
       "<div>\n",
       "<table border=\"1\" class=\"dataframe\">\n",
       "  <thead>\n",
       "    <tr style=\"text-align: right;\">\n",
       "      <th></th>\n",
       "      <th>DJIA</th>\n",
       "    </tr>\n",
       "    <tr>\n",
       "      <th>Date</th>\n",
       "      <th></th>\n",
       "    </tr>\n",
       "  </thead>\n",
       "  <tbody>\n",
       "    <tr>\n",
       "      <th>2017-02-10</th>\n",
       "      <td>20269.369141</td>\n",
       "    </tr>\n",
       "    <tr>\n",
       "      <th>2017-02-09</th>\n",
       "      <td>20172.400391</td>\n",
       "    </tr>\n",
       "    <tr>\n",
       "      <th>2017-02-08</th>\n",
       "      <td>20054.339844</td>\n",
       "    </tr>\n",
       "    <tr>\n",
       "      <th>2017-02-07</th>\n",
       "      <td>20090.289062</td>\n",
       "    </tr>\n",
       "    <tr>\n",
       "      <th>2017-02-06</th>\n",
       "      <td>20052.419922</td>\n",
       "    </tr>\n",
       "    <tr>\n",
       "      <th>2017-02-03</th>\n",
       "      <td>20071.460938</td>\n",
       "    </tr>\n",
       "    <tr>\n",
       "      <th>2017-02-02</th>\n",
       "      <td>19884.910156</td>\n",
       "    </tr>\n",
       "    <tr>\n",
       "      <th>2017-02-01</th>\n",
       "      <td>19890.939453</td>\n",
       "    </tr>\n",
       "    <tr>\n",
       "      <th>2017-01-31</th>\n",
       "      <td>19864.089844</td>\n",
       "    </tr>\n",
       "    <tr>\n",
       "      <th>2017-01-30</th>\n",
       "      <td>19971.130859</td>\n",
       "    </tr>\n",
       "    <tr>\n",
       "      <th>2017-01-27</th>\n",
       "      <td>20093.779297</td>\n",
       "    </tr>\n",
       "    <tr>\n",
       "      <th>2017-01-26</th>\n",
       "      <td>20100.910156</td>\n",
       "    </tr>\n",
       "    <tr>\n",
       "      <th>2017-01-25</th>\n",
       "      <td>20068.509766</td>\n",
       "    </tr>\n",
       "    <tr>\n",
       "      <th>2017-01-24</th>\n",
       "      <td>19912.710938</td>\n",
       "    </tr>\n",
       "    <tr>\n",
       "      <th>2017-01-23</th>\n",
       "      <td>19799.849609</td>\n",
       "    </tr>\n",
       "    <tr>\n",
       "      <th>2017-01-20</th>\n",
       "      <td>19827.250000</td>\n",
       "    </tr>\n",
       "    <tr>\n",
       "      <th>2017-01-19</th>\n",
       "      <td>19732.400391</td>\n",
       "    </tr>\n",
       "    <tr>\n",
       "      <th>2017-01-18</th>\n",
       "      <td>19804.720703</td>\n",
       "    </tr>\n",
       "    <tr>\n",
       "      <th>2017-01-17</th>\n",
       "      <td>19826.769531</td>\n",
       "    </tr>\n",
       "    <tr>\n",
       "      <th>2017-01-13</th>\n",
       "      <td>19885.730469</td>\n",
       "    </tr>\n",
       "    <tr>\n",
       "      <th>2017-01-12</th>\n",
       "      <td>19891.000000</td>\n",
       "    </tr>\n",
       "    <tr>\n",
       "      <th>2017-01-11</th>\n",
       "      <td>19954.279297</td>\n",
       "    </tr>\n",
       "    <tr>\n",
       "      <th>2017-01-10</th>\n",
       "      <td>19855.529297</td>\n",
       "    </tr>\n",
       "    <tr>\n",
       "      <th>2017-01-09</th>\n",
       "      <td>19887.380859</td>\n",
       "    </tr>\n",
       "    <tr>\n",
       "      <th>2017-01-06</th>\n",
       "      <td>19963.800781</td>\n",
       "    </tr>\n",
       "    <tr>\n",
       "      <th>2017-01-05</th>\n",
       "      <td>19899.289062</td>\n",
       "    </tr>\n",
       "    <tr>\n",
       "      <th>2017-01-04</th>\n",
       "      <td>19942.160156</td>\n",
       "    </tr>\n",
       "    <tr>\n",
       "      <th>2017-01-03</th>\n",
       "      <td>19881.759766</td>\n",
       "    </tr>\n",
       "    <tr>\n",
       "      <th>2016-12-30</th>\n",
       "      <td>19762.599609</td>\n",
       "    </tr>\n",
       "    <tr>\n",
       "      <th>2016-12-29</th>\n",
       "      <td>19819.779297</td>\n",
       "    </tr>\n",
       "    <tr>\n",
       "      <th>...</th>\n",
       "      <td>...</td>\n",
       "    </tr>\n",
       "    <tr>\n",
       "      <th>1921-02-11</th>\n",
       "      <td>75.589996</td>\n",
       "    </tr>\n",
       "    <tr>\n",
       "      <th>1921-02-10</th>\n",
       "      <td>75.589996</td>\n",
       "    </tr>\n",
       "    <tr>\n",
       "      <th>1921-02-09</th>\n",
       "      <td>75.480003</td>\n",
       "    </tr>\n",
       "    <tr>\n",
       "      <th>1921-02-08</th>\n",
       "      <td>75.540001</td>\n",
       "    </tr>\n",
       "    <tr>\n",
       "      <th>1921-02-07</th>\n",
       "      <td>74.800003</td>\n",
       "    </tr>\n",
       "    <tr>\n",
       "      <th>1921-02-04</th>\n",
       "      <td>74.739998</td>\n",
       "    </tr>\n",
       "    <tr>\n",
       "      <th>1921-02-03</th>\n",
       "      <td>74.339996</td>\n",
       "    </tr>\n",
       "    <tr>\n",
       "      <th>1921-02-02</th>\n",
       "      <td>74.980003</td>\n",
       "    </tr>\n",
       "    <tr>\n",
       "      <th>1921-02-01</th>\n",
       "      <td>75.480003</td>\n",
       "    </tr>\n",
       "    <tr>\n",
       "      <th>1921-01-31</th>\n",
       "      <td>76.129997</td>\n",
       "    </tr>\n",
       "    <tr>\n",
       "      <th>1921-01-28</th>\n",
       "      <td>76.230003</td>\n",
       "    </tr>\n",
       "    <tr>\n",
       "      <th>1921-01-27</th>\n",
       "      <td>75.709999</td>\n",
       "    </tr>\n",
       "    <tr>\n",
       "      <th>1921-01-26</th>\n",
       "      <td>75.190002</td>\n",
       "    </tr>\n",
       "    <tr>\n",
       "      <th>1921-01-25</th>\n",
       "      <td>74.980003</td>\n",
       "    </tr>\n",
       "    <tr>\n",
       "      <th>1921-01-24</th>\n",
       "      <td>74.769997</td>\n",
       "    </tr>\n",
       "    <tr>\n",
       "      <th>1921-01-21</th>\n",
       "      <td>74.650002</td>\n",
       "    </tr>\n",
       "    <tr>\n",
       "      <th>1921-01-20</th>\n",
       "      <td>76.080002</td>\n",
       "    </tr>\n",
       "    <tr>\n",
       "      <th>1921-01-19</th>\n",
       "      <td>76.760002</td>\n",
       "    </tr>\n",
       "    <tr>\n",
       "      <th>1921-01-18</th>\n",
       "      <td>75.400002</td>\n",
       "    </tr>\n",
       "    <tr>\n",
       "      <th>1921-01-17</th>\n",
       "      <td>75.209999</td>\n",
       "    </tr>\n",
       "    <tr>\n",
       "      <th>1921-01-14</th>\n",
       "      <td>74.480003</td>\n",
       "    </tr>\n",
       "    <tr>\n",
       "      <th>1921-01-13</th>\n",
       "      <td>74.430000</td>\n",
       "    </tr>\n",
       "    <tr>\n",
       "      <th>1921-01-12</th>\n",
       "      <td>75.879997</td>\n",
       "    </tr>\n",
       "    <tr>\n",
       "      <th>1921-01-11</th>\n",
       "      <td>76.139999</td>\n",
       "    </tr>\n",
       "    <tr>\n",
       "      <th>1921-01-10</th>\n",
       "      <td>76.000000</td>\n",
       "    </tr>\n",
       "    <tr>\n",
       "      <th>1921-01-07</th>\n",
       "      <td>75.209999</td>\n",
       "    </tr>\n",
       "    <tr>\n",
       "      <th>1921-01-06</th>\n",
       "      <td>74.309998</td>\n",
       "    </tr>\n",
       "    <tr>\n",
       "      <th>1921-01-05</th>\n",
       "      <td>73.129997</td>\n",
       "    </tr>\n",
       "    <tr>\n",
       "      <th>1921-01-04</th>\n",
       "      <td>72.760002</td>\n",
       "    </tr>\n",
       "    <tr>\n",
       "      <th>1921-01-03</th>\n",
       "      <td>72.669998</td>\n",
       "    </tr>\n",
       "  </tbody>\n",
       "</table>\n",
       "<p>24133 rows × 1 columns</p>\n",
       "</div>"
      ],
      "text/plain": [
       "                    DJIA\n",
       "Date                    \n",
       "2017-02-10  20269.369141\n",
       "2017-02-09  20172.400391\n",
       "2017-02-08  20054.339844\n",
       "2017-02-07  20090.289062\n",
       "2017-02-06  20052.419922\n",
       "2017-02-03  20071.460938\n",
       "2017-02-02  19884.910156\n",
       "2017-02-01  19890.939453\n",
       "2017-01-31  19864.089844\n",
       "2017-01-30  19971.130859\n",
       "2017-01-27  20093.779297\n",
       "2017-01-26  20100.910156\n",
       "2017-01-25  20068.509766\n",
       "2017-01-24  19912.710938\n",
       "2017-01-23  19799.849609\n",
       "2017-01-20  19827.250000\n",
       "2017-01-19  19732.400391\n",
       "2017-01-18  19804.720703\n",
       "2017-01-17  19826.769531\n",
       "2017-01-13  19885.730469\n",
       "2017-01-12  19891.000000\n",
       "2017-01-11  19954.279297\n",
       "2017-01-10  19855.529297\n",
       "2017-01-09  19887.380859\n",
       "2017-01-06  19963.800781\n",
       "2017-01-05  19899.289062\n",
       "2017-01-04  19942.160156\n",
       "2017-01-03  19881.759766\n",
       "2016-12-30  19762.599609\n",
       "2016-12-29  19819.779297\n",
       "...                  ...\n",
       "1921-02-11     75.589996\n",
       "1921-02-10     75.589996\n",
       "1921-02-09     75.480003\n",
       "1921-02-08     75.540001\n",
       "1921-02-07     74.800003\n",
       "1921-02-04     74.739998\n",
       "1921-02-03     74.339996\n",
       "1921-02-02     74.980003\n",
       "1921-02-01     75.480003\n",
       "1921-01-31     76.129997\n",
       "1921-01-28     76.230003\n",
       "1921-01-27     75.709999\n",
       "1921-01-26     75.190002\n",
       "1921-01-25     74.980003\n",
       "1921-01-24     74.769997\n",
       "1921-01-21     74.650002\n",
       "1921-01-20     76.080002\n",
       "1921-01-19     76.760002\n",
       "1921-01-18     75.400002\n",
       "1921-01-17     75.209999\n",
       "1921-01-14     74.480003\n",
       "1921-01-13     74.430000\n",
       "1921-01-12     75.879997\n",
       "1921-01-11     76.139999\n",
       "1921-01-10     76.000000\n",
       "1921-01-07     75.209999\n",
       "1921-01-06     74.309998\n",
       "1921-01-05     73.129997\n",
       "1921-01-04     72.760002\n",
       "1921-01-03     72.669998\n",
       "\n",
       "[24133 rows x 1 columns]"
      ]
     },
     "execution_count": 46,
     "metadata": {},
     "output_type": "execute_result"
    }
   ],
   "source": []
  },
  {
   "cell_type": "code",
   "execution_count": null,
   "metadata": {
    "collapsed": true
   },
   "outputs": [],
   "source": []
  }
 ],
 "metadata": {
  "kernelspec": {
   "display_name": "Python 2",
   "language": "python",
   "name": "python2"
  },
  "language_info": {
   "codemirror_mode": {
    "name": "ipython",
    "version": 2
   },
   "file_extension": ".py",
   "mimetype": "text/x-python",
   "name": "python",
   "nbconvert_exporter": "python",
   "pygments_lexer": "ipython2",
   "version": "2.7.12"
  }
 },
 "nbformat": 4,
 "nbformat_minor": 0
}
